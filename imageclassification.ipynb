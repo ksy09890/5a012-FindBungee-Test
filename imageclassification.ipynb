{
 "cells": [
  {
   "cell_type": "markdown",
   "metadata": {},
   "source": [
    "Create a new Python application"
   ]
  },
  {
   "cell_type": "code",
   "execution_count": 1,
   "metadata": {},
   "outputs": [],
   "source": [
    "# Azure의 Custom Vision 라이브러리를 추가. 예측을 위하여 prediction을 포함\n",
    "from azure.cognitiveservices.vision.customvision.prediction import CustomVisionPredictionClient\n",
    "# OpenAPI 스펙에 맞춰서 Authentication을 처리할 수 있도록 해주는 코드\n",
    "from msrest.authentication import ApiKeyCredentials\n",
    "# Matplotlib의 pyplot을 포함하여 예측 결과를 그리기\n",
    "from matplotlib import pyplot as plt\n",
    "# Python Image 라이브러리로 이미지 그리기\n",
    "from PIL import Image, ImageDraw, ImageFont\n",
    "# Python Numpy (수학 및 과학 연산 패키지) 포함\n",
    "import numpy as np\n",
    "# 파일 처리 작업을 위해 os 라이브러리 포함\n",
    "import os"
   ]
  },
  {
   "cell_type": "markdown",
   "metadata": {},
   "source": [
    "Create variables for your resource's Azure endpoint and keys."
   ]
  },
  {
   "cell_type": "code",
   "execution_count": 2,
   "metadata": {},
   "outputs": [],
   "source": [
    "prediction_key = \"4jb29LOWjaNizreBlfNeZTl8ioGkVdmU1BFfIgF01Dm9pZRlZCyPJQQJ99AJACYeBjFXJ3w3AAAIACOG2btW\"\n",
    "prediction_endpoint = \"https://5a012customvision-prediction.cognitiveservices.azure.com\"\n",
    "project_id = \"56818835-0fab-49c4-8a1f-5d65660e6148\"\n",
    "model_name = \"Iteration1\""
   ]
  },
  {
   "cell_type": "markdown",
   "metadata": {},
   "source": [
    "Authenticate the client"
   ]
  },
  {
   "cell_type": "code",
   "execution_count": 3,
   "metadata": {},
   "outputs": [],
   "source": [
    "credentials = ApiKeyCredentials(in_headers={\"Prediction-key\":prediction_key})\n",
    "predictor = CustomVisionPredictionClient(endpoint=prediction_endpoint, credentials=credentials)"
   ]
  },
  {
   "cell_type": "markdown",
   "metadata": {},
   "source": [
    "Load image and predict"
   ]
  },
  {
   "cell_type": "code",
   "execution_count": 4,
   "metadata": {},
   "outputs": [
    {
     "name": "stdout",
     "output_type": "stream",
     "text": [
      "Tag: Highland, Probability: 0.97\n",
      "Tag: Basalt, Probability: 0.03\n"
     ]
    }
   ],
   "source": [
    "image_file = \"./data/Crustal_Anorthosite_s72-18192.jpg\"\n",
    "\n",
    "with open(image_file, mode=\"rb\") as image_data:\n",
    "    results = predictor.classify_image(project_id, model_name, image_data)\n",
    "\n",
    "for prediction in results.predictions:\n",
    "    print(f\"Tag: {prediction.tag_name}, Probability: {prediction.probability:.2f}\")\n"
   ]
  }
 ],
 "metadata": {
  "kernelspec": {
   "display_name": "Python 3",
   "language": "python",
   "name": "python3"
  },
  "language_info": {
   "codemirror_mode": {
    "name": "ipython",
    "version": 3
   },
   "file_extension": ".py",
   "mimetype": "text/x-python",
   "name": "python",
   "nbconvert_exporter": "python",
   "pygments_lexer": "ipython3",
   "version": "3.12.1"
  }
 },
 "nbformat": 4,
 "nbformat_minor": 2
}
